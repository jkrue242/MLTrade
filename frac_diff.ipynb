{
 "cells": [
  {
   "cell_type": "code",
   "execution_count": 2,
   "metadata": {},
   "outputs": [],
   "source": [
    "import numpy as np \n",
    "import pandas as pd\n",
    "import matplotlib.pyplot as plt\n",
    "from statsmodels.tsa.stattools import adfuller, coint\n",
    "import yfinance as yf\n",
    "np.random.seed(42)"
   ]
  },
  {
   "cell_type": "code",
   "execution_count": 12,
   "metadata": {},
   "outputs": [],
   "source": [
    "def fetch_stock(ticker, feature):\n",
    "    stock = yf.Ticker(ticker)\n",
    "    hist_df = stock.history(period=\"max\")\n",
    "    stock_series = hist_df[feature].rename(ticker)\n",
    "    stock_series.index = stock_series.index.date\n",
    "    return stock_series"
   ]
  },
  {
   "cell_type": "code",
   "execution_count": 35,
   "metadata": {},
   "outputs": [],
   "source": [
    "def get_weights_ffd(d, thresh):\n",
    "    '''\n",
    "    computes weights for differentiating for fixed window\n",
    "    ''' \n",
    "    # init first weight - always 1.0 for t_0\n",
    "    w, k = [1.0], 1\n",
    "    while True:\n",
    "\n",
    "        # calculate next weight - decays\n",
    "        w_ = -w[-1] / k * (d - k + 1)\n",
    "\n",
    "        # break once weights are below threshold\n",
    "        if abs(w_) < thresh:\n",
    "            break \n",
    "\n",
    "        # append the weight to the list\n",
    "        w.append(w_)\n",
    "\n",
    "        # increment k\n",
    "        k += 1\n",
    "\n",
    "    # reverse the weights ([w_0, w_1, ..., w_n] -> [w_n, ..., w_1, w_0])\n",
    "    w = np.array(w[::-1]).reshape(-1, 1)\n",
    "    return w "
   ]
  },
  {
   "cell_type": "code",
   "execution_count": 83,
   "metadata": {},
   "outputs": [],
   "source": [
    "def frac_diff_ffd(series, d, thresh=1e-5):\n",
    "    ''' \n",
    "    fractional differentiation with constant width window \n",
    "    ''' \n",
    "    # get weights and set window size\n",
    "    w = get_weights_ffd(d, thresh)  \n",
    "    width = len(w) - 1\n",
    "    df = {}\n",
    "\n",
    "    # process columns separately\n",
    "    for name in series.columns:\n",
    "\n",
    "        # cleaning: forward fill and drop nans\n",
    "        series_f = series[[name]].ffill().dropna()\n",
    "\n",
    "        # convert to series\n",
    "        df_ = pd.Series(index=np.arange(series.shape[0]), dtype=object)\n",
    "\n",
    "        # sliding window\n",
    "        for iloc1 in range(width, series_f.shape[0]):\n",
    "\n",
    "            # get window boundaries (iloc0 is oldest price, iloc1 is most recent)\n",
    "            loc0, loc1 = series_f.index[iloc1 - width], series_f.index[iloc1]\n",
    "\n",
    "            # skip if nan or missing\n",
    "            if not np.isfinite(series.loc[loc1, name]):\n",
    "                continue\n",
    "                \n",
    "            # calculate weighted sum (dot product of weight and window values)\n",
    "            w_1d = w.flatten()\n",
    "            prices_1d = series_f.loc[loc0:loc1, name].values\n",
    "            df_[loc1] = w_1d @ prices_1d\n",
    "        \n",
    "        # store processed column\n",
    "        df[name] = df_.dropna().copy(deep=True)\n",
    "\n",
    "    # combine all columns\n",
    "    df = pd.concat(df, axis=1)\n",
    "    return df"
   ]
  },
  {
   "cell_type": "code",
   "execution_count": 84,
   "metadata": {},
   "outputs": [],
   "source": [
    "def ffd(process, thresh=0.01):\n",
    "    ''' \n",
    "    find the optimal fractional differencing factor \n",
    "    '''\n",
    "    # iterate over different values of d\n",
    "    for d in np.linspace(0, 1, 11):\n",
    "\n",
    "        # apply fractional differencing\n",
    "        process_diff = frac_diff_ffd(pd.DataFrame(process), d, thresh)\n",
    "\n",
    "        # check if the process is stationary\n",
    "        adf = adfuller(process_diff[process.name], maxlag=1, regression='c', autolag=None)\n",
    "\n",
    "        # break if the process is stationary\n",
    "        if adf[1] < 0.05:\n",
    "            break\n",
    "    return process_diff[process.name]"
   ]
  },
  {
   "cell_type": "code",
   "execution_count": 85,
   "metadata": {},
   "outputs": [],
   "source": [
    "def adf_helper(series, maxlag=1, regression='c', autolag=None, verbose=True):\n",
    "    adf = adfuller(series, maxlag=maxlag, regression=regression, autolag=autolag)\n",
    "    if verbose:\n",
    "        print(\"========================================\")\n",
    "        print(f'ADF Statistic: {adf[0]}')\n",
    "        print(f'p-value: {adf[1]}')\n",
    "        print('Critical Values: ')\n",
    "        for key, value in adf[4].items():\n",
    "            print(f'\\t{key}: {value}')\n",
    "\n",
    "        if adf[1] < 0.05:\n",
    "            print(\"The series is stationary\")\n",
    "        else:\n",
    "            print(\"The series is not stationary\")\n",
    "    return adf"
   ]
  },
  {
   "cell_type": "code",
   "execution_count": 86,
   "metadata": {},
   "outputs": [
    {
     "name": "stdout",
     "output_type": "stream",
     "text": [
      "========================================\n",
      "ADF Statistic: 3.1004492154622296\n",
      "p-value: 1.0\n",
      "Critical Values: \n",
      "\t1%: -3.43116047961978\n",
      "\t5%: -2.8618981743537226\n",
      "\t10%: -2.566960651472702\n",
      "The series is not stationary\n"
     ]
    }
   ],
   "source": [
    "n = 1000\n",
    "ticker = \"SPY\"\n",
    "time = np.arange(n)\n",
    "stock = fetch_stock(ticker, 'Close')\n",
    "pre_result_diff = adf_helper(stock)"
   ]
  },
  {
   "cell_type": "code",
   "execution_count": 87,
   "metadata": {},
   "outputs": [
    {
     "name": "stdout",
     "output_type": "stream",
     "text": [
      "========================================\n",
      "ADF Statistic: -3.8285707592013614\n",
      "p-value: 0.0026281590493020734\n",
      "Critical Values: \n",
      "\t1%: -3.43116128402297\n",
      "\t5%: -2.861898529794197\n",
      "\t10%: -2.566960840677353\n",
      "The series is stationary\n"
     ]
    }
   ],
   "source": [
    "diff_series = ffd(stock)\n",
    "result_diff = adf_helper(diff_series)"
   ]
  },
  {
   "cell_type": "code",
   "execution_count": 88,
   "metadata": {},
   "outputs": [
    {
     "data": {
      "image/png": "[encoded data removed]",
      "text/plain": [
       "<Figure size 640x480 with 1 Axes>"
      ]
     },
     "metadata": {},
     "output_type": "display_data"
    }
   ],
   "source": [
    "plt.plot(stock, label=\"Original time-series\")\n",
    "plt.plot(diff_series, label=\"Differenced time-series\")\n",
    "plt.title(f'Original vs Differenced Time Series ({ticker})')\n",
    "plt.legend()\n",
    "plt.show()"
   ]
  }
 ],
 "metadata": {
  "kernelspec": {
   "display_name": "venv",
   "language": "python",
   "name": "venv"
  },
  "language_info": {
   "codemirror_mode": {
    "name": "ipython",
    "version": 3
   },
   "file_extension": ".py",
   "mimetype": "text/x-python",
   "name": "python",
   "nbconvert_exporter": "python",
   "pygments_lexer": "ipython3",
   "version": "3.13.1"
  }
 },
 "nbformat": 4,
 "nbformat_minor": 2
}
